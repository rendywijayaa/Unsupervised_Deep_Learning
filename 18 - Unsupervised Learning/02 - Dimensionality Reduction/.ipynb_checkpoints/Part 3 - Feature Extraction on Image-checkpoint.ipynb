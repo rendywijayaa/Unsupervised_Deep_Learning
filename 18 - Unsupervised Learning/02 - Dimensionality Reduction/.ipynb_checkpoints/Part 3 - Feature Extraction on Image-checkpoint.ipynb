{
 "cells": [
  {
   "cell_type": "code",
   "execution_count": 2,
   "id": "covered-short",
   "metadata": {},
   "outputs": [],
   "source": [
    "import numpy as np\n",
    "import pandas as pd\n",
    "import matplotlib.pyplot as plt\n",
    "from sklearn.model_selection import train_test_split\n",
    "from sklearn.decomposition import PCA, NMF\n",
    "\n",
    "from luwiji.dimensionality_reduction import illustration"
   ]
  },
  {
   "cell_type": "code",
   "execution_count": 3,
   "id": "olive-bowling",
   "metadata": {},
   "outputs": [
    {
     "data": {
      "text/html": [
       "<div>\n",
       "<style scoped>\n",
       "    .dataframe tbody tr th:only-of-type {\n",
       "        vertical-align: middle;\n",
       "    }\n",
       "\n",
       "    .dataframe tbody tr th {\n",
       "        vertical-align: top;\n",
       "    }\n",
       "\n",
       "    .dataframe thead th {\n",
       "        text-align: right;\n",
       "    }\n",
       "</style>\n",
       "<table border=\"1\" class=\"dataframe\">\n",
       "  <thead>\n",
       "    <tr style=\"text-align: right;\">\n",
       "      <th></th>\n",
       "      <th>pixel_1-1</th>\n",
       "      <th>pixel_1-2</th>\n",
       "      <th>pixel_1-3</th>\n",
       "      <th>pixel_1-4</th>\n",
       "      <th>pixel_1-5</th>\n",
       "      <th>pixel_1-6</th>\n",
       "      <th>pixel_1-7</th>\n",
       "      <th>pixel_1-8</th>\n",
       "      <th>pixel_1-9</th>\n",
       "      <th>pixel_1-10</th>\n",
       "      <th>...</th>\n",
       "      <th>pixel_87-57</th>\n",
       "      <th>pixel_87-58</th>\n",
       "      <th>pixel_87-59</th>\n",
       "      <th>pixel_87-60</th>\n",
       "      <th>pixel_87-61</th>\n",
       "      <th>pixel_87-62</th>\n",
       "      <th>pixel_87-63</th>\n",
       "      <th>pixel_87-64</th>\n",
       "      <th>pixel_87-65</th>\n",
       "      <th>name</th>\n",
       "    </tr>\n",
       "  </thead>\n",
       "  <tbody>\n",
       "    <tr>\n",
       "      <th>0</th>\n",
       "      <td>57</td>\n",
       "      <td>60</td>\n",
       "      <td>78</td>\n",
       "      <td>120</td>\n",
       "      <td>156</td>\n",
       "      <td>178</td>\n",
       "      <td>195</td>\n",
       "      <td>210</td>\n",
       "      <td>221</td>\n",
       "      <td>222</td>\n",
       "      <td>...</td>\n",
       "      <td>41</td>\n",
       "      <td>17</td>\n",
       "      <td>15</td>\n",
       "      <td>20</td>\n",
       "      <td>19</td>\n",
       "      <td>18</td>\n",
       "      <td>17</td>\n",
       "      <td>16</td>\n",
       "      <td>22</td>\n",
       "      <td>Winona Ryder</td>\n",
       "    </tr>\n",
       "    <tr>\n",
       "      <th>1</th>\n",
       "      <td>66</td>\n",
       "      <td>80</td>\n",
       "      <td>88</td>\n",
       "      <td>68</td>\n",
       "      <td>63</td>\n",
       "      <td>96</td>\n",
       "      <td>115</td>\n",
       "      <td>127</td>\n",
       "      <td>139</td>\n",
       "      <td>148</td>\n",
       "      <td>...</td>\n",
       "      <td>25</td>\n",
       "      <td>18</td>\n",
       "      <td>11</td>\n",
       "      <td>8</td>\n",
       "      <td>8</td>\n",
       "      <td>8</td>\n",
       "      <td>8</td>\n",
       "      <td>8</td>\n",
       "      <td>9</td>\n",
       "      <td>Jean Chretien</td>\n",
       "    </tr>\n",
       "    <tr>\n",
       "      <th>2</th>\n",
       "      <td>18</td>\n",
       "      <td>14</td>\n",
       "      <td>15</td>\n",
       "      <td>13</td>\n",
       "      <td>14</td>\n",
       "      <td>23</td>\n",
       "      <td>55</td>\n",
       "      <td>92</td>\n",
       "      <td>125</td>\n",
       "      <td>154</td>\n",
       "      <td>...</td>\n",
       "      <td>253</td>\n",
       "      <td>251</td>\n",
       "      <td>240</td>\n",
       "      <td>172</td>\n",
       "      <td>47</td>\n",
       "      <td>20</td>\n",
       "      <td>22</td>\n",
       "      <td>22</td>\n",
       "      <td>25</td>\n",
       "      <td>Carlos Menem</td>\n",
       "    </tr>\n",
       "    <tr>\n",
       "      <th>3</th>\n",
       "      <td>76</td>\n",
       "      <td>113</td>\n",
       "      <td>172</td>\n",
       "      <td>201</td>\n",
       "      <td>199</td>\n",
       "      <td>190</td>\n",
       "      <td>177</td>\n",
       "      <td>167</td>\n",
       "      <td>167</td>\n",
       "      <td>171</td>\n",
       "      <td>...</td>\n",
       "      <td>82</td>\n",
       "      <td>115</td>\n",
       "      <td>131</td>\n",
       "      <td>137</td>\n",
       "      <td>136</td>\n",
       "      <td>138</td>\n",
       "      <td>140</td>\n",
       "      <td>143</td>\n",
       "      <td>143</td>\n",
       "      <td>Ariel Sharon</td>\n",
       "    </tr>\n",
       "    <tr>\n",
       "      <th>4</th>\n",
       "      <td>79</td>\n",
       "      <td>70</td>\n",
       "      <td>70</td>\n",
       "      <td>81</td>\n",
       "      <td>99</td>\n",
       "      <td>126</td>\n",
       "      <td>144</td>\n",
       "      <td>156</td>\n",
       "      <td>164</td>\n",
       "      <td>168</td>\n",
       "      <td>...</td>\n",
       "      <td>88</td>\n",
       "      <td>91</td>\n",
       "      <td>90</td>\n",
       "      <td>89</td>\n",
       "      <td>85</td>\n",
       "      <td>83</td>\n",
       "      <td>80</td>\n",
       "      <td>74</td>\n",
       "      <td>64</td>\n",
       "      <td>Alvaro Uribe</td>\n",
       "    </tr>\n",
       "  </tbody>\n",
       "</table>\n",
       "<p>5 rows × 5656 columns</p>\n",
       "</div>"
      ],
      "text/plain": [
       "   pixel_1-1  pixel_1-2  pixel_1-3  pixel_1-4  pixel_1-5  pixel_1-6  \\\n",
       "0         57         60         78        120        156        178   \n",
       "1         66         80         88         68         63         96   \n",
       "2         18         14         15         13         14         23   \n",
       "3         76        113        172        201        199        190   \n",
       "4         79         70         70         81         99        126   \n",
       "\n",
       "   pixel_1-7  pixel_1-8  pixel_1-9  pixel_1-10  ...  pixel_87-57  pixel_87-58  \\\n",
       "0        195        210        221         222  ...           41           17   \n",
       "1        115        127        139         148  ...           25           18   \n",
       "2         55         92        125         154  ...          253          251   \n",
       "3        177        167        167         171  ...           82          115   \n",
       "4        144        156        164         168  ...           88           91   \n",
       "\n",
       "   pixel_87-59  pixel_87-60  pixel_87-61  pixel_87-62  pixel_87-63  \\\n",
       "0           15           20           19           18           17   \n",
       "1           11            8            8            8            8   \n",
       "2          240          172           47           20           22   \n",
       "3          131          137          136          138          140   \n",
       "4           90           89           85           83           80   \n",
       "\n",
       "   pixel_87-64  pixel_87-65           name  \n",
       "0           16           22   Winona Ryder  \n",
       "1            8            9  Jean Chretien  \n",
       "2           22           25   Carlos Menem  \n",
       "3          143          143   Ariel Sharon  \n",
       "4           74           64   Alvaro Uribe  \n",
       "\n",
       "[5 rows x 5656 columns]"
      ]
     },
     "execution_count": 3,
     "metadata": {},
     "output_type": "execute_result"
    }
   ],
   "source": [
    "df = pd.read_csv(\"data/lfw_people.csv\")\n",
    "df.head()"
   ]
  },
  {
   "cell_type": "markdown",
   "id": "rural-master",
   "metadata": {},
   "source": [
    "# Dataset Splitting"
   ]
  },
  {
   "cell_type": "code",
   "execution_count": 4,
   "id": "ignored-france",
   "metadata": {},
   "outputs": [
    {
     "data": {
      "text/plain": [
       "((2418, 5655), (605, 5655), (2418,), (605,))"
      ]
     },
     "execution_count": 4,
     "metadata": {},
     "output_type": "execute_result"
    }
   ],
   "source": [
    "X = df.drop(columns=\"name\").values\n",
    "y = df.name.values\n",
    "\n",
    "X_train, X_test, y_train, y_test = train_test_split(X, y, test_size=0.2, stratify=y, random_state=42)\n",
    "X_train.shape, X_test.shape, y_train.shape, y_test.shape"
   ]
  },
  {
   "cell_type": "markdown",
   "id": "checked-electronics",
   "metadata": {},
   "source": [
    "# Visualize Data\n",
    "\n"
   ]
  },
  {
   "cell_type": "code",
   "execution_count": 7,
   "id": "removed-experience",
   "metadata": {},
   "outputs": [
    {
     "data": {
      "image/png": "[encoded data removed]",
      "text/plain": [
       "<Figure size 432x288 with 1 Axes>"
      ]
     },
     "metadata": {
      "needs_background": "light"
     },
     "output_type": "display_data"
    }
   ],
   "source": [
    "idx = 2\n",
    "plt.imshow(X_train[idx].reshape(87, 65), cmap=\"gray\")\n",
    "plt.title(y_train[idx])\n",
    "plt.axis(\"off\");"
   ]
  },
  {
   "cell_type": "markdown",
   "id": "existing-mustang",
   "metadata": {},
   "source": [
    "# Decide n_components"
   ]
  },
  {
   "cell_type": "code",
   "execution_count": 9,
   "id": "according-transformation",
   "metadata": {},
   "outputs": [
    {
     "data": {
      "image/png": "[encoded data removed]",
      "text/plain": [
       "<Figure size 432x288 with 1 Axes>"
      ]
     },
     "metadata": {
      "needs_background": "light"
     },
     "output_type": "display_data"
    }
   ],
   "source": [
    "pca = PCA().fit(X_train)\n",
    "plt.plot(pca.explained_variance_ratio_.cumsum())\n",
    "plt.xlabel(\"n_components\")\n",
    "plt.ylabel(\"Cumulative Explained Variance\");"
   ]
  },
  {
   "cell_type": "markdown",
   "id": "statistical-neighbor",
   "metadata": {},
   "source": [
    "# Feature Extraction melalui Dim Reduction"
   ]
  },
  {
   "cell_type": "code",
   "execution_count": 10,
   "id": "martial-balloon",
   "metadata": {},
   "outputs": [],
   "source": [
    "pca = PCA(250, whiten=True)\n",
    "X_train_pca = pca.fit_transform(X_train)\n",
    "X_test_pca = pca.transform(X_test)"
   ]
  },
  {
   "cell_type": "code",
   "execution_count": 13,
   "id": "optional-chemistry",
   "metadata": {},
   "outputs": [
    {
     "name": "stdout",
     "output_type": "stream",
     "text": [
      "(2418, 5655)\n",
      "(2418, 250)\n",
      "(250, 5655)\n"
     ]
    }
   ],
   "source": [
    "print(X_train.shape) # hidden layer\n",
    "print(X_train_pca.shape) # weight / code\n",
    "print(pca.components_.shape) # fitur"
   ]
  },
  {
   "cell_type": "code",
   "execution_count": null,
   "id": "continued-kidney",
   "metadata": {},
   "outputs": [],
   "source": []
  },
  {
   "cell_type": "code",
   "execution_count": null,
   "id": "fifteen-entry",
   "metadata": {},
   "outputs": [],
   "source": []
  },
  {
   "cell_type": "code",
   "execution_count": null,
   "id": "needed-ballet",
   "metadata": {},
   "outputs": [],
   "source": []
  },
  {
   "cell_type": "code",
   "execution_count": null,
   "id": "ultimate-warehouse",
   "metadata": {},
   "outputs": [],
   "source": []
  },
  {
   "cell_type": "code",
   "execution_count": null,
   "id": "polar-priest",
   "metadata": {},
   "outputs": [],
   "source": []
  },
  {
   "cell_type": "code",
   "execution_count": null,
   "id": "directed-meter",
   "metadata": {},
   "outputs": [],
   "source": []
  },
  {
   "cell_type": "code",
   "execution_count": null,
   "id": "right-shipping",
   "metadata": {},
   "outputs": [],
   "source": []
  },
  {
   "cell_type": "code",
   "execution_count": null,
   "id": "blessed-guatemala",
   "metadata": {},
   "outputs": [],
   "source": []
  },
  {
   "cell_type": "code",
   "execution_count": null,
   "id": "athletic-grounds",
   "metadata": {},
   "outputs": [],
   "source": []
  },
  {
   "cell_type": "code",
   "execution_count": null,
   "id": "noted-ontario",
   "metadata": {},
   "outputs": [],
   "source": []
  },
  {
   "cell_type": "code",
   "execution_count": null,
   "id": "naked-playback",
   "metadata": {},
   "outputs": [],
   "source": []
  }
 ],
 "metadata": {
  "kernelspec": {
   "display_name": "Python [conda env:jcop_usl]",
   "language": "python",
   "name": "conda-env-jcop_usl-py"
  },
  "language_info": {
   "codemirror_mode": {
    "name": "ipython",
    "version": 3
   },
   "file_extension": ".py",
   "mimetype": "text/x-python",
   "name": "python",
   "nbconvert_exporter": "python",
   "pygments_lexer": "ipython3",
   "version": "3.7.6"
  }
 },
 "nbformat": 4,
 "nbformat_minor": 5
}
